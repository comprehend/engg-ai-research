{
 "cells": [
  {
   "cell_type": "code",
   "execution_count": 1,
   "id": "93a9dd44-66aa-4d32-a118-2ed4214605da",
   "metadata": {},
   "outputs": [
    {
     "name": "stderr",
     "output_type": "stream",
     "text": [
      "2022-03-18 11:39:22.791825: W tensorflow/stream_executor/platform/default/dso_loader.cc:64] Could not load dynamic library 'libcudart.so.11.0'; dlerror: libcudart.so.11.0: cannot open shared object file: No such file or directory\n",
      "2022-03-18 11:39:22.791864: I tensorflow/stream_executor/cuda/cudart_stub.cc:29] Ignore above cudart dlerror if you do not have a GPU set up on your machine.\n"
     ]
    }
   ],
   "source": [
    "from transformers import TFAutoModelForTokenClassification, ElectraTokenizerFast\n",
    "from datasets import load_dataset, load_metric\n",
    "import numpy as np\n",
    "from transformers import DataCollatorWithPadding\n",
    "import tensorflow as tf\n",
    "from tensorflow.keras.metrics import Precision, Recall\n",
    "import tensorflow_addons as tfa\n",
    "import math\n",
    "from transformers import TokenClassificationPipeline\n",
    "from sklearn.metrics import f1_score"
   ]
  },
  {
   "cell_type": "code",
   "execution_count": 2,
   "id": "5f7f2038-c283-43a9-8068-69702c88707e",
   "metadata": {},
   "outputs": [
    {
     "name": "stderr",
     "output_type": "stream",
     "text": [
      "2022-03-18 11:39:25.091064: W tensorflow/stream_executor/platform/default/dso_loader.cc:64] Could not load dynamic library 'libcuda.so.1'; dlerror: libcuda.so.1: cannot open shared object file: No such file or directory\n",
      "2022-03-18 11:39:25.091098: W tensorflow/stream_executor/cuda/cuda_driver.cc:269] failed call to cuInit: UNKNOWN ERROR (303)\n",
      "2022-03-18 11:39:25.091129: I tensorflow/stream_executor/cuda/cuda_diagnostics.cc:156] kernel driver does not appear to be running on this host (default): /proc/driver/nvidia/version does not exist\n",
      "2022-03-18 11:39:25.091385: I tensorflow/core/platform/cpu_feature_guard.cc:151] This TensorFlow binary is optimized with oneAPI Deep Neural Network Library (oneDNN) to use the following CPU instructions in performance-critical operations:  AVX2 AVX512F FMA\n",
      "To enable them in other operations, rebuild TensorFlow with the appropriate compiler flags.\n",
      "Some weights of the PyTorch model were not used when initializing the TF 2.0 model TFElectraForTokenClassification: ['embeddings.position_ids']\n",
      "- This IS expected if you are initializing TFElectraForTokenClassification from a PyTorch model trained on another task or with another architecture (e.g. initializing a TFBertForSequenceClassification model from a BertForPreTraining model).\n",
      "- This IS NOT expected if you are initializing TFElectraForTokenClassification from a PyTorch model that you expect to be exactly identical (e.g. initializing a TFBertForSequenceClassification model from a BertForSequenceClassification model).\n",
      "Some weights or buffers of the TF 2.0 model TFElectraForTokenClassification were not initialized from the PyTorch model and are newly initialized: ['classifier.weight', 'classifier.bias']\n",
      "You should probably TRAIN this model on a down-stream task to be able to use it for predictions and inference.\n"
     ]
    },
    {
     "data": {
      "text/plain": [
       "2"
      ]
     },
     "execution_count": 2,
     "metadata": {},
     "output_type": "execute_result"
    }
   ],
   "source": [
    "model = TFAutoModelForTokenClassification.from_pretrained(\n",
    "    \"pretrained_models/NegBioElectra\", num_labels=1,from_pt=True,local_files_only=True\n",
    ")\n",
    "tokenizer = ElectraTokenizerFast.from_pretrained(\"pretrained_models/NegBioElectra\",max_length=256,local_files_only=True)\n",
    "tokenizer.add_tokens(['[NEG]','[SPE]'], special_tokens=True)"
   ]
  },
  {
   "cell_type": "code",
   "execution_count": 3,
   "id": "45697a82-45b9-4ad3-a52f-f4ed394863e5",
   "metadata": {},
   "outputs": [
    {
     "data": {
      "text/plain": [
       "<tensorflow.python.training.tracking.util.CheckpointLoadStatus at 0x7f2ed27abbb0>"
      ]
     },
     "execution_count": 3,
     "metadata": {},
     "output_type": "execute_result"
    }
   ],
   "source": [
    "model.load_weights(\"pretrained_models/bioscope_models/NegBioElectra_bioscope_scope_model\")"
   ]
  },
  {
   "cell_type": "code",
   "execution_count": 4,
   "id": "5bd5a108-0697-413b-aaff-ac2d8c36d399",
   "metadata": {},
   "outputs": [
    {
     "name": "stderr",
     "output_type": "stream",
     "text": [
      "Using custom data configuration default-043f5dd429419ac1\n",
      "Reusing dataset csv (/home/studio-lab-user/.cache/huggingface/datasets/csv/default-043f5dd429419ac1/0.0.0/6b9057d9e23d9d8a2f05b985917a0da84d70c5dae3d22ddd8a3f22fb01c69d9e)\n"
     ]
    },
    {
     "data": {
      "application/vnd.jupyter.widget-view+json": {
       "model_id": "6d4e77fa188a4e5dbefbb451ab101ca0",
       "version_major": 2,
       "version_minor": 0
      },
      "text/plain": [
       "  0%|          | 0/2 [00:00<?, ?it/s]"
      ]
     },
     "metadata": {},
     "output_type": "display_data"
    },
    {
     "data": {
      "text/plain": [
       "DatasetDict({\n",
       "    neg_test: Dataset({\n",
       "        features: ['Unnamed: 0', 'sentence', 'labels'],\n",
       "        num_rows: 216\n",
       "    })\n",
       "    spec_test: Dataset({\n",
       "        features: ['Unnamed: 0', 'sentence', 'labels'],\n",
       "        num_rows: 315\n",
       "    })\n",
       "})"
      ]
     },
     "execution_count": 4,
     "metadata": {},
     "output_type": "execute_result"
    }
   ],
   "source": [
    "ds = load_dataset(\"csv\", data_files={'neg_test': 'data/bioscope_leaderboard_neg_test.csv','spec_test':'data/bioscope_leaderboard_spe_test.csv'})\n",
    "ds"
   ]
  },
  {
   "cell_type": "code",
   "execution_count": 5,
   "id": "826ec71e-9fcd-46f4-b7ce-e567be466443",
   "metadata": {},
   "outputs": [],
   "source": [
    "def convert_labels(examples):\n",
    "    l = {'labels':[list(np.array(i.split(\"|\"),dtype=\"int32\")) for i in examples['labels']]} \n",
    "    l.update(tokenizer(examples['sentence'],truncation=True,max_length=256,padding=True))\n",
    "    return l"
   ]
  },
  {
   "cell_type": "code",
   "execution_count": 6,
   "id": "178e4280-9a74-4640-87ef-50e50e30df60",
   "metadata": {},
   "outputs": [
    {
     "name": "stderr",
     "output_type": "stream",
     "text": [
      "Loading cached processed dataset at /home/studio-lab-user/.cache/huggingface/datasets/csv/default-043f5dd429419ac1/0.0.0/6b9057d9e23d9d8a2f05b985917a0da84d70c5dae3d22ddd8a3f22fb01c69d9e/cache-09ae7c8eccb8015a.arrow\n"
     ]
    },
    {
     "data": {
      "application/vnd.jupyter.widget-view+json": {
       "model_id": "84dc484c411046ed94b88b09adf817ac",
       "version_major": 2,
       "version_minor": 0
      },
      "text/plain": [
       "  0%|          | 0/1 [00:00<?, ?ba/s]"
      ]
     },
     "metadata": {},
     "output_type": "display_data"
    },
    {
     "name": "stdout",
     "output_type": "stream",
     "text": [
      "Ignored unknown kwarg option direction\n"
     ]
    }
   ],
   "source": [
    "encoded_dataset = ds.map(convert_labels, batched=True)"
   ]
  },
  {
   "cell_type": "code",
   "execution_count": 7,
   "id": "646ab5df-b9d0-4620-9b5d-5b4736e89e7d",
   "metadata": {},
   "outputs": [],
   "source": [
    "data_collator = DataCollatorWithPadding(tokenizer=tokenizer,max_length=256, return_tensors=\"tf\",padding=\"max_length\")"
   ]
  },
  {
   "cell_type": "code",
   "execution_count": 8,
   "id": "abca84ff-efc2-41b8-892b-4d7033cddacf",
   "metadata": {},
   "outputs": [],
   "source": [
    "\n",
    "tf_neg_test_dataset = encoded_dataset[\"neg_test\"].to_tf_dataset(\n",
    "    columns=['token_type_ids', 'attention_mask', 'input_ids'],\n",
    "    label_cols=[\"labels\"],\n",
    "    shuffle=False,\n",
    "    batch_size=1,\n",
    "    collate_fn=data_collator,\n",
    ")\n",
    "tf_spec_test_dataset = encoded_dataset[\"spec_test\"].to_tf_dataset(\n",
    "    columns=['token_type_ids', 'attention_mask', 'input_ids'],\n",
    "    label_cols=[\"labels\"],\n",
    "    shuffle=False,\n",
    "    batch_size=1,\n",
    "    collate_fn=data_collator,\n",
    ")"
   ]
  },
  {
   "cell_type": "code",
   "execution_count": 9,
   "id": "5e337b30-5a59-4b96-8e1f-bef4293c0ff4",
   "metadata": {},
   "outputs": [],
   "source": [
    "def sigmoid_array(x):                                        \n",
    "    return 1 / (1 + np.exp(-x))"
   ]
  },
  {
   "cell_type": "code",
   "execution_count": 10,
   "id": "e30bd759-4b6c-48c2-97b9-4c7d3f3bb8ba",
   "metadata": {},
   "outputs": [
    {
     "data": {
      "text/plain": [
       "(216, 216, 216)"
      ]
     },
     "execution_count": 10,
     "metadata": {},
     "output_type": "execute_result"
    }
   ],
   "source": [
    "inp = []\n",
    "pred_out = []\n",
    "true_out = []\n",
    "for i in tf_neg_test_dataset:\n",
    "    in_,out_ = list(i)\n",
    "    inp += list(in_['input_ids'].numpy())\n",
    "    true_out += list(out_.numpy())\n",
    "    pred = model(in_)\n",
    "    pred_out += list(sigmoid_array(pred['logits'].numpy()))\n",
    "    \n",
    "len(inp),len(true_out),len(pred_out)"
   ]
  },
  {
   "cell_type": "code",
   "execution_count": 11,
   "id": "b833b07a-40dd-42ca-8850-4ea0412fea7c",
   "metadata": {},
   "outputs": [
    {
     "data": {
      "text/plain": [
       "(216, 256, 1)"
      ]
     },
     "execution_count": 11,
     "metadata": {},
     "output_type": "execute_result"
    }
   ],
   "source": [
    "pred_out = np.array(pred_out)\n",
    "pred_out.shape"
   ]
  },
  {
   "cell_type": "code",
   "execution_count": 12,
   "id": "bc5357e4-6633-452f-9a23-f65076dd306f",
   "metadata": {},
   "outputs": [
    {
     "data": {
      "text/plain": [
       "(216, 256)"
      ]
     },
     "execution_count": 12,
     "metadata": {},
     "output_type": "execute_result"
    }
   ],
   "source": [
    "pred_out = np.reshape(pred_out,(pred_out.shape[0],256))\n",
    "pred_out.shape"
   ]
  },
  {
   "cell_type": "code",
   "execution_count": 13,
   "id": "30579a06-1280-49e5-b5b8-44650010df6b",
   "metadata": {},
   "outputs": [
    {
     "data": {
      "text/plain": [
       "array([0., 0., 0., 0., 0., 1., 1., 1., 1., 1., 1., 1., 1., 1., 1., 1., 1.,\n",
       "       1., 1., 1., 0., 0., 0., 0., 0., 0., 0., 0., 0., 0., 0., 0., 0., 0.,\n",
       "       0., 0., 0., 0., 0., 0., 0., 0., 0., 0., 0., 0., 0., 0., 0., 0., 0.,\n",
       "       0., 0., 0., 0., 0., 0., 0., 0., 0., 0., 0., 0., 0., 0., 0., 0., 0.,\n",
       "       0., 0., 0., 0., 0., 0., 0., 0., 0., 0., 0., 0., 0., 0., 0., 0., 0.,\n",
       "       0., 0., 0., 0., 0., 0., 0., 0., 0., 0., 0., 0., 0., 0., 0., 0., 0.,\n",
       "       0., 0., 0., 0., 0., 0., 0., 0., 0., 0., 0., 0., 0., 0., 0., 0., 0.,\n",
       "       0., 0., 0., 0., 0., 0., 0., 0., 0., 0., 0., 0., 0., 0., 0., 0., 0.,\n",
       "       0., 0., 0., 0., 0., 0., 0., 0., 0., 0., 0., 0., 0., 0., 0., 0., 0.,\n",
       "       0., 0., 0., 0., 0., 0., 0., 0., 0., 0., 0., 0., 0., 0., 0., 0., 0.,\n",
       "       0., 0., 0., 0., 0., 0., 0., 0., 0., 0., 0., 0., 0., 0., 0., 0., 0.,\n",
       "       0., 0., 0., 0., 0., 0., 0., 0., 0., 0., 0., 0., 0., 0., 0., 0., 0.,\n",
       "       0., 0., 0., 0., 0., 0., 0., 0., 0., 0., 0., 0., 0., 0., 0., 0., 0.,\n",
       "       0., 0., 0., 0., 0., 0., 0., 0., 0., 0., 0., 0., 0., 0., 0., 0., 0.,\n",
       "       0., 0., 0., 0., 0., 0., 0., 0., 0., 0., 0., 0., 0., 0., 0., 0., 0.,\n",
       "       0.], dtype=float32)"
      ]
     },
     "execution_count": 13,
     "metadata": {},
     "output_type": "execute_result"
    }
   ],
   "source": [
    "pred_out = np.round(pred_out)\n",
    "pred_out[0]"
   ]
  },
  {
   "cell_type": "code",
   "execution_count": 14,
   "id": "cebdbca3-7e44-4cc9-bc9a-274bb72c36f2",
   "metadata": {},
   "outputs": [
    {
     "data": {
      "text/plain": [
       "(216, 256)"
      ]
     },
     "execution_count": 14,
     "metadata": {},
     "output_type": "execute_result"
    }
   ],
   "source": [
    "true_out = np.array(true_out)\n",
    "true_out.shape"
   ]
  },
  {
   "cell_type": "code",
   "execution_count": 15,
   "id": "21259fb3-1755-4269-a3ce-53c0cbc1d359",
   "metadata": {},
   "outputs": [
    {
     "data": {
      "text/plain": [
       "0.989387636502077"
      ]
     },
     "execution_count": 15,
     "metadata": {},
     "output_type": "execute_result"
    }
   ],
   "source": [
    "f1_score(true_out, pred_out, average='macro',zero_division=1)"
   ]
  },
  {
   "cell_type": "code",
   "execution_count": 16,
   "id": "cde65a7f-05be-407a-9131-284432265b87",
   "metadata": {},
   "outputs": [
    {
     "data": {
      "text/plain": [
       "(315, 315, 315)"
      ]
     },
     "execution_count": 16,
     "metadata": {},
     "output_type": "execute_result"
    }
   ],
   "source": [
    "inp = []\n",
    "pred_out = []\n",
    "true_out = []\n",
    "for i in tf_spec_test_dataset:\n",
    "    in_,out_ = list(i)\n",
    "    inp += list(in_['input_ids'].numpy())\n",
    "    true_out += list(out_.numpy())\n",
    "    pred = model(in_)\n",
    "    pred_out += list(sigmoid_array(pred['logits'].numpy()))\n",
    "    \n",
    "len(inp),len(true_out),len(pred_out)"
   ]
  },
  {
   "cell_type": "code",
   "execution_count": 17,
   "id": "da0f1af2-5d0a-44e7-ab94-7fb4cb46679a",
   "metadata": {},
   "outputs": [
    {
     "data": {
      "text/plain": [
       "(315, 256, 1)"
      ]
     },
     "execution_count": 17,
     "metadata": {},
     "output_type": "execute_result"
    }
   ],
   "source": [
    "pred_out = np.array(pred_out)\n",
    "pred_out.shape"
   ]
  },
  {
   "cell_type": "code",
   "execution_count": 18,
   "id": "956903ac-bbfc-40b6-98ef-468961e2f41f",
   "metadata": {},
   "outputs": [
    {
     "data": {
      "text/plain": [
       "(315, 256)"
      ]
     },
     "execution_count": 18,
     "metadata": {},
     "output_type": "execute_result"
    }
   ],
   "source": [
    "pred_out = np.reshape(pred_out,(pred_out.shape[0],256))\n",
    "pred_out.shape"
   ]
  },
  {
   "cell_type": "code",
   "execution_count": 19,
   "id": "0c3fc126-69de-48ab-bfd8-3417d5383575",
   "metadata": {},
   "outputs": [
    {
     "data": {
      "text/plain": [
       "array([0., 0., 0., 0., 0., 0., 0., 0., 0., 0., 0., 0., 0., 0., 0., 0., 0.,\n",
       "       0., 0., 0., 0., 0., 0., 0., 1., 1., 1., 1., 1., 1., 1., 1., 1., 1.,\n",
       "       1., 0., 0., 0., 0., 0., 0., 0., 0., 0., 0., 0., 0., 0., 0., 0., 0.,\n",
       "       0., 0., 0., 0., 0., 0., 0., 0., 0., 0., 0., 0., 0., 0., 0., 0., 0.,\n",
       "       0., 0., 0., 0., 0., 0., 0., 0., 0., 0., 0., 0., 0., 0., 0., 0., 0.,\n",
       "       0., 0., 0., 0., 0., 0., 0., 0., 0., 0., 0., 0., 0., 0., 0., 0., 0.,\n",
       "       0., 0., 0., 0., 0., 0., 0., 0., 0., 0., 0., 0., 0., 0., 0., 0., 0.,\n",
       "       0., 0., 0., 0., 0., 0., 0., 0., 0., 0., 0., 0., 0., 0., 0., 0., 0.,\n",
       "       0., 0., 0., 0., 0., 0., 0., 0., 0., 0., 0., 0., 0., 0., 0., 0., 0.,\n",
       "       0., 0., 0., 0., 0., 0., 0., 0., 0., 0., 0., 0., 0., 0., 0., 0., 0.,\n",
       "       0., 0., 0., 0., 0., 0., 0., 0., 0., 0., 0., 0., 0., 0., 0., 0., 0.,\n",
       "       0., 0., 0., 0., 0., 0., 0., 0., 0., 0., 0., 0., 0., 0., 0., 0., 0.,\n",
       "       0., 0., 0., 0., 0., 0., 0., 0., 0., 0., 0., 0., 0., 0., 0., 0., 0.,\n",
       "       0., 0., 0., 0., 0., 0., 0., 0., 0., 0., 0., 0., 0., 0., 0., 0., 0.,\n",
       "       0., 0., 0., 0., 0., 0., 0., 0., 0., 0., 0., 0., 0., 0., 0., 0., 0.,\n",
       "       0.], dtype=float32)"
      ]
     },
     "execution_count": 19,
     "metadata": {},
     "output_type": "execute_result"
    }
   ],
   "source": [
    "pred_out = np.round(pred_out)\n",
    "pred_out[0]"
   ]
  },
  {
   "cell_type": "code",
   "execution_count": 20,
   "id": "633b6068-257c-4b82-8f25-b8dd1b35896d",
   "metadata": {},
   "outputs": [
    {
     "data": {
      "text/plain": [
       "(315, 256)"
      ]
     },
     "execution_count": 20,
     "metadata": {},
     "output_type": "execute_result"
    }
   ],
   "source": [
    "true_out = np.array(true_out)\n",
    "true_out.shape"
   ]
  },
  {
   "cell_type": "code",
   "execution_count": 23,
   "id": "fec5931e-4206-4089-b316-d4808b3b530b",
   "metadata": {},
   "outputs": [
    {
     "data": {
      "text/plain": [
       "0.9837165734789863"
      ]
     },
     "execution_count": 23,
     "metadata": {},
     "output_type": "execute_result"
    }
   ],
   "source": [
    "f1_score(true_out, pred_out, average='macro',zero_division=1)"
   ]
  },
  {
   "cell_type": "code",
   "execution_count": null,
   "id": "f0e29e76-dd41-4b2f-baa8-89c32ce847be",
   "metadata": {},
   "outputs": [],
   "source": []
  },
  {
   "cell_type": "code",
   "execution_count": null,
   "id": "175da54c-8ae3-4cf4-ada8-c1c584c3ceb6",
   "metadata": {},
   "outputs": [],
   "source": []
  }
 ],
 "metadata": {
  "kernelspec": {
   "display_name": "Python 3",
   "language": "python",
   "name": "python3"
  },
  "language_info": {
   "codemirror_mode": {
    "name": "ipython",
    "version": 3
   },
   "file_extension": ".py",
   "mimetype": "text/x-python",
   "name": "python",
   "nbconvert_exporter": "python",
   "pygments_lexer": "ipython3",
   "version": "3.8.8"
  }
 },
 "nbformat": 4,
 "nbformat_minor": 5
}
